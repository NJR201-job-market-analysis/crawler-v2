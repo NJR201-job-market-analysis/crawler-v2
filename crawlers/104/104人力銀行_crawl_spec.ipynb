{
 "cells": [
  {
   "cell_type": "markdown",
   "id": "7abe7925",
   "metadata": {},
   "source": [
    "# 104人力銀行爬蟲程式規格文件\n",
    "\n",
    "## 1. 程式目的\n",
    "- 抓取104人力銀行網站上的職缺資訊\n",
    "- 針對特定關鍵字和職務類別進行搜尋\n",
    "- 將資料整理成結構化格式儲存\n",
    "\n",
    "## 2. 使用的套件\n",
    "- `time`: 時間處理和延遲\n",
    "- `random`: 隨機延遲時間產生\n",
    "- `json`: JSON 資料處理\n",
    "- `requests`: HTTP 請求處理\n",
    "- `bs4 (BeautifulSoup)`: HTML 解析\n",
    "- `tqdm`: 進度條顯示\n",
    "- `pandas`: 資料處理與分析\n",
    "- `collections.deque`: 固定長度佇列\n",
    "- `concurrent.futures.ThreadPoolExecutor`: 多執行緒處理"
   ]
  },
  {
   "cell_type": "markdown",
   "id": "f0c1ea6a",
   "metadata": {},
   "source": [
    "## 3. 主要功能模組\n",
    "\n",
    "### 3.1 職業類別目錄獲取\n",
    "- API 端點: `https://static.104.com.tw/category-tool/json/JobCat.json`\n",
    "- 功能: 獲取完整的職業分類資訊\n",
    "- 輸出: DataFrame 格式的職業分類資料\n",
    "\n",
    "### 3.2 搜尋 URL 生成 (`catch_104_url`)\n",
    "- 功能: 根據搜尋參數生成104網站的搜尋 URL\n",
    "- 參數:\n",
    "  - `KEYWORDS`: 職缺關鍵字\n",
    "  - `CATEGORY`: 職缺類別代碼\n",
    "  - `ORDER`: 排序方式（可選）\n",
    "    - 15: 符合度高\n",
    "    - 16: 最近更新\n",
    "- 返回: 完整的搜尋 URL"
   ]
  },
  {
   "cell_type": "markdown",
   "id": "a4ca8a58",
   "metadata": {},
   "source": [
    "### 3.3 職缺列表獲取 (`fetch_jobs_url`)\n",
    "- 功能: 抓取符合條件的職缺列表\n",
    "- API 端點: `https://www.104.com.tw/jobs/search/api/jobs`\n",
    "- 參數:\n",
    "  - `_CODE`: 職缺類別代碼\n",
    "  - `KEYWORD`: 搜尋關鍵字\n",
    "- 搜尋限制:\n",
    "  - 最大頁數: 10頁\n",
    "  - 每頁筆數: 30筆\n",
    "- 特殊處理:\n",
    "  - 使用 `tqdm` 顯示進度\n",
    "  - 隨機延遲 0.5-1.5 秒\n",
    "  - 去除重複職缺\n",
    "  - 連續4次無新資料時提前結束\n",
    "\n",
    "### 3.4 職缺詳細資訊獲取 (`fetch_job_data`)\n",
    "- 功能: 獲取單一職缺的詳細資訊\n",
    "- API 格式: `https://www.104.com.tw/job/ajax/content/{職缺ID}`\n",
    "- 輸出: 包含職缺完整資訊的 DataFrame"
   ]
  },
  {
   "cell_type": "markdown",
   "id": "93cc7033",
   "metadata": {},
   "source": [
    "## 4. 資料處理流程\n",
    "\n",
    "1. 初始化設定\n",
    "   - 設定搜尋時間戳記\n",
    "   - 設定職缺類別代碼\n",
    "   - 設定搜尋關鍵字\n",
    "   - 設定輸出檔案名稱格式\n",
    "\n",
    "2. 資料獲取流程\n",
    "   - 取得職缺列表\n",
    "   - 轉換為 API 格式的 URL\n",
    "   - 逐一獲取詳細資訊\n",
    "   - 合併到總表\n",
    "\n",
    "3. 資料輸出\n",
    "   - 以 DataFrame 格式儲存\n",
    "   - 可匯出為 CSV 或 Excel 格式"
   ]
  },
  {
   "cell_type": "markdown",
   "id": "cf0714d0",
   "metadata": {},
   "source": [
    "## 5. 安全性考量\n",
    "\n",
    "### 5.1 請求標頭設定\n",
    "```python\n",
    "HEADERS = {\n",
    "    'User-Agent': 'Mozilla/5.0 (Windows NT 10.0; Win64; x64) AppleWebKit/537.36 (KHTML, like Gecko) Chrome/136.0.0.0 Safari/537.36',\n",
    "    'Referer': 'https://www.104.com.tw/jobs/search'\n",
    "}\n",
    "```\n",
    "\n",
    "### 5.2 爬蟲限制\n",
    "- 使用隨機延遲避免過度請求\n",
    "- 設定請求超時限制 (20秒)\n",
    "- 偵測重複資料避免無效請求"
   ]
  },
  {
   "cell_type": "markdown",
   "id": "74f63285",
   "metadata": {},
   "source": [
    "## 6. 錯誤處理\n",
    "- 使用 `requests.Session()` 管理連線\n",
    "- 設定請求超時機制\n",
    "- 檢查 API 回應狀態\n",
    "- 資料重複性檢查\n",
    "- 連續無新資料時提前結束機制\n",
    "\n",
    "## 7. 輸出格式\n",
    "檔案命名格式：\n",
    "```\n",
    "(日期)_104人力銀行_關鍵字_職類代碼\n",
    "```\n",
    "範例：\n",
    "```\n",
    "(2025-05-22)_104人力銀行_雲端工程師_2007000000.csv\n",
    "```"
   ]
  }
 ],
 "metadata": {
  "language_info": {
   "name": "python"
  }
 },
 "nbformat": 4,
 "nbformat_minor": 5
}
